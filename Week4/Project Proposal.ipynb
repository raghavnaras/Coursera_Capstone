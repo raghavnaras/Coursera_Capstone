{
 "cells": [
  {
   "cell_type": "markdown",
   "metadata": {},
   "source": [
    "# Coursera Capstone Project Proposal #"
   ]
  },
  {
   "cell_type": "markdown",
   "metadata": {},
   "source": [
    "### Description of Problem "
   ]
  },
  {
   "cell_type": "markdown",
   "metadata": {},
   "source": [
    "In this project, I will use machine learning to give a reccomendation to a franchise owner of an Indian restaurant chain on the optimal location to open a new branch in Toronto, Canada. "
   ]
  },
  {
   "cell_type": "markdown",
   "metadata": {},
   "source": [
    "### Discussion of the Background "
   ]
  },
  {
   "cell_type": "markdown",
   "metadata": {},
   "source": [
    "Canada, and especially Toronto, has been known as a top location for Indians to reside. In fact, among all the Indians in Canada, approximately 51% live in the greater Toronto area. This means that having representation of Indian culture is crutial. In addition to that, having an Indian restaurant present in a place with a high density population of Indians will be sucessful. "
   ]
  },
  {
   "cell_type": "markdown",
   "metadata": {},
   "source": [
    "### Description of Data and it's Application to the Problem "
   ]
  },
  {
   "cell_type": "markdown",
   "metadata": {},
   "source": [
    "The data I will be using is a table that consists of the different South Asian populations in a given postal code. From here, I will use clustering to find a cluster that has a high density of South Asians and will conclude that that will be the optimal location to house a new branch. This will also, obviously, require location and geographical data, which will be provided through the FourSquare API. "
   ]
  },
  {
   "cell_type": "code",
   "execution_count": null,
   "metadata": {},
   "outputs": [],
   "source": []
  }
 ],
 "metadata": {
  "kernelspec": {
   "display_name": "Python 3",
   "language": "python",
   "name": "python3"
  },
  "language_info": {
   "codemirror_mode": {
    "name": "ipython",
    "version": 3
   },
   "file_extension": ".py",
   "mimetype": "text/x-python",
   "name": "python",
   "nbconvert_exporter": "python",
   "pygments_lexer": "ipython3",
   "version": "3.7.4"
  }
 },
 "nbformat": 4,
 "nbformat_minor": 2
}
